{
 "cells": [
  {
   "cell_type": "code",
   "execution_count": 1,
   "metadata": {},
   "outputs": [],
   "source": [
    "import pandas as pd\n",
    "import numpy as np\n",
    "import re\n",
    "import spacy\n",
    "from franc_lib import lexical\n",
    "\n",
    "\n",
    "normalizer = lexical.Preprocessing()"
   ]
  },
  {
   "cell_type": "code",
   "execution_count": 2,
   "metadata": {},
   "outputs": [],
   "source": [
    "dataframe = pd.read_csv('dados.csv')"
   ]
  },
  {
   "cell_type": "code",
   "execution_count": 3,
   "metadata": {},
   "outputs": [],
   "source": [
    "text = dataframe[dataframe['Unnamed: 0'] == 2]['text']"
   ]
  },
  {
   "cell_type": "code",
   "execution_count": 4,
   "metadata": {},
   "outputs": [],
   "source": [
    "# ([^rs])  - Qualquer letra que não r ou s\n",
    "# (?=\\1+)  - Que se repita uma vez ou mais\n",
    "# |(rr)    - Ou dois r's\n",
    "# (?=r+)   - Que tenham mais r's à frente\n",
    "# |(ss)    - Ou dois s's\n",
    "# (?=s+)   - Que tenham mais s's à frente\n",
    "regex = r\"([^rs])(?=\\1+)|(rr)(?=r+)|(ss)(?=s+)\"\n",
    "\n",
    "def remove_username(tweet):\n",
    "    return re.sub('@[^\\s]+','',tweet)\n",
    "\n",
    "def remove_end_of_line(tweet):\n",
    "    return tweet.replace('\\n', '').replace('RT', '')\n",
    "\n",
    "def remove_duplicate_letters(tweet):\n",
    "    tweet = re.sub(regex, '', tweet, 0)\n",
    "    return tweet"
   ]
  },
  {
   "cell_type": "code",
   "execution_count": 5,
   "metadata": {},
   "outputs": [
    {
     "data": {
      "text/html": [
       "<div>\n",
       "<style scoped>\n",
       "    .dataframe tbody tr th:only-of-type {\n",
       "        vertical-align: middle;\n",
       "    }\n",
       "\n",
       "    .dataframe tbody tr th {\n",
       "        vertical-align: top;\n",
       "    }\n",
       "\n",
       "    .dataframe thead th {\n",
       "        text-align: right;\n",
       "    }\n",
       "</style>\n",
       "<table border=\"1\" class=\"dataframe\">\n",
       "  <thead>\n",
       "    <tr style=\"text-align: right;\">\n",
       "      <th></th>\n",
       "      <th>Unnamed: 0</th>\n",
       "      <th>id</th>\n",
       "      <th>text</th>\n",
       "    </tr>\n",
       "  </thead>\n",
       "  <tbody>\n",
       "    <tr>\n",
       "      <th>0</th>\n",
       "      <td>0</td>\n",
       "      <td>1142208313532342274</td>\n",
       "      <td>Nossa putaria é quase um poema</td>\n",
       "    </tr>\n",
       "    <tr>\n",
       "      <th>1</th>\n",
       "      <td>1</td>\n",
       "      <td>1142208269513089024</td>\n",
       "      <td>ManooooKKKKKKKKK apareceu aqueles vídeos de li...</td>\n",
       "    </tr>\n",
       "    <tr>\n",
       "      <th>2</th>\n",
       "      <td>2</td>\n",
       "      <td>1142208264861626370</td>\n",
       "      <td>@felipesimoncini É putaria né ? Aqui no dique ...</td>\n",
       "    </tr>\n",
       "    <tr>\n",
       "      <th>3</th>\n",
       "      <td>3</td>\n",
       "      <td>1142208231558864896</td>\n",
       "      <td>acabei de fazer um Tinder pra minha tia e fale...</td>\n",
       "    </tr>\n",
       "    <tr>\n",
       "      <th>4</th>\n",
       "      <td>4</td>\n",
       "      <td>1142208138520776704</td>\n",
       "      <td>RT @MiiEDB: Queria viver um romance porém esta...</td>\n",
       "    </tr>\n",
       "  </tbody>\n",
       "</table>\n",
       "</div>"
      ],
      "text/plain": [
       "   Unnamed: 0                   id  \\\n",
       "0           0  1142208313532342274   \n",
       "1           1  1142208269513089024   \n",
       "2           2  1142208264861626370   \n",
       "3           3  1142208231558864896   \n",
       "4           4  1142208138520776704   \n",
       "\n",
       "                                                text  \n",
       "0                     Nossa putaria é quase um poema  \n",
       "1  ManooooKKKKKKKKK apareceu aqueles vídeos de li...  \n",
       "2  @felipesimoncini É putaria né ? Aqui no dique ...  \n",
       "3  acabei de fazer um Tinder pra minha tia e fale...  \n",
       "4  RT @MiiEDB: Queria viver um romance porém esta...  "
      ]
     },
     "execution_count": 5,
     "metadata": {},
     "output_type": "execute_result"
    }
   ],
   "source": [
    "dataframe.head()"
   ]
  },
  {
   "cell_type": "code",
   "execution_count": 6,
   "metadata": {},
   "outputs": [],
   "source": [
    "def normalize(tweet):\n",
    "    tweet = remove_username(tweet)\n",
    "    tweet = remove_end_of_line(tweet)\n",
    "    tweet = remove_duplicate_letters(tweet)\n",
    "    tweet = normalizer.lowercase(tweet)\n",
    "    tweet = normalizer.remove_punctuation(tweet)\n",
    "    tokens = normalizer.tokenize_words(tweet)\n",
    "#     tokens = [token for token in tokens if token not in english_stopwords]\n",
    "    return ' '.join(tokens)"
   ]
  },
  {
   "cell_type": "code",
   "execution_count": 7,
   "metadata": {},
   "outputs": [],
   "source": [
    "dataframe['normalize'] = dataframe['text'].apply(normalize)"
   ]
  },
  {
   "cell_type": "code",
   "execution_count": 8,
   "metadata": {},
   "outputs": [
    {
     "data": {
      "text/html": [
       "<div>\n",
       "<style scoped>\n",
       "    .dataframe tbody tr th:only-of-type {\n",
       "        vertical-align: middle;\n",
       "    }\n",
       "\n",
       "    .dataframe tbody tr th {\n",
       "        vertical-align: top;\n",
       "    }\n",
       "\n",
       "    .dataframe thead th {\n",
       "        text-align: right;\n",
       "    }\n",
       "</style>\n",
       "<table border=\"1\" class=\"dataframe\">\n",
       "  <thead>\n",
       "    <tr style=\"text-align: right;\">\n",
       "      <th></th>\n",
       "      <th>Unnamed: 0</th>\n",
       "      <th>id</th>\n",
       "      <th>text</th>\n",
       "      <th>normalize</th>\n",
       "    </tr>\n",
       "  </thead>\n",
       "  <tbody>\n",
       "    <tr>\n",
       "      <th>0</th>\n",
       "      <td>0</td>\n",
       "      <td>1142208313532342274</td>\n",
       "      <td>Nossa putaria é quase um poema</td>\n",
       "      <td>nossa putaria é quase um poema</td>\n",
       "    </tr>\n",
       "    <tr>\n",
       "      <th>1</th>\n",
       "      <td>1</td>\n",
       "      <td>1142208269513089024</td>\n",
       "      <td>ManooooKKKKKKKKK apareceu aqueles vídeos de li...</td>\n",
       "      <td>manok apareceu aqueles vídeos de ligações do b...</td>\n",
       "    </tr>\n",
       "    <tr>\n",
       "      <th>2</th>\n",
       "      <td>2</td>\n",
       "      <td>1142208264861626370</td>\n",
       "      <td>@felipesimoncini É putaria né ? Aqui no dique ...</td>\n",
       "      <td>é putaria né aqui no dique é frenquentar nos a...</td>\n",
       "    </tr>\n",
       "    <tr>\n",
       "      <th>3</th>\n",
       "      <td>3</td>\n",
       "      <td>1142208231558864896</td>\n",
       "      <td>acabei de fazer um Tinder pra minha tia e fale...</td>\n",
       "      <td>acabei de fazer um tinder pra minha tia e fale...</td>\n",
       "    </tr>\n",
       "    <tr>\n",
       "      <th>4</th>\n",
       "      <td>4</td>\n",
       "      <td>1142208138520776704</td>\n",
       "      <td>RT @MiiEDB: Queria viver um romance porém esta...</td>\n",
       "      <td>queria viver um romance porém estamos no sécul...</td>\n",
       "    </tr>\n",
       "  </tbody>\n",
       "</table>\n",
       "</div>"
      ],
      "text/plain": [
       "   Unnamed: 0                   id  \\\n",
       "0           0  1142208313532342274   \n",
       "1           1  1142208269513089024   \n",
       "2           2  1142208264861626370   \n",
       "3           3  1142208231558864896   \n",
       "4           4  1142208138520776704   \n",
       "\n",
       "                                                text  \\\n",
       "0                     Nossa putaria é quase um poema   \n",
       "1  ManooooKKKKKKKKK apareceu aqueles vídeos de li...   \n",
       "2  @felipesimoncini É putaria né ? Aqui no dique ...   \n",
       "3  acabei de fazer um Tinder pra minha tia e fale...   \n",
       "4  RT @MiiEDB: Queria viver um romance porém esta...   \n",
       "\n",
       "                                           normalize  \n",
       "0                     nossa putaria é quase um poema  \n",
       "1  manok apareceu aqueles vídeos de ligações do b...  \n",
       "2  é putaria né aqui no dique é frenquentar nos a...  \n",
       "3  acabei de fazer um tinder pra minha tia e fale...  \n",
       "4  queria viver um romance porém estamos no sécul...  "
      ]
     },
     "execution_count": 8,
     "metadata": {},
     "output_type": "execute_result"
    }
   ],
   "source": [
    "dataframe.head()"
   ]
  },
  {
   "cell_type": "code",
   "execution_count": 9,
   "metadata": {},
   "outputs": [],
   "source": [
    "hate_certeiras = [\n",
    "    'feminazi','gayzista', 'viadismo', 'homossexualismo', 'viadagem', 'gayzismo', 'favelado',\n",
    "    'gayzinho', 'sapatona', 'sapatão', 'bixa', 'verme', 'negrice', 'negrisse', 'negraiada','abortistas',\n",
    "    'rameira', 'crioula', 'crioulas', 'crioulos', 'crioulo','tições', 'sangues ruins', 'Bambis', 'boiola',\n",
    "    'bichona', 'biba', 'traveco', 'travesti'\n",
    "]\n",
    "\n",
    "hate_verbo = [\n",
    "    'matar', 'exterminar', 'odiar', 'queimar', 'atirar', 'esfaquear', 'bater', 'apanhar', 'roubar',\n",
    "    'estuprar', 'ser', 'comer',\n",
    "]\n",
    "\n",
    "hate_adj = [\n",
    "    'safado','imbecil', 'imbecis', 'cachaceiro', 'babaca', 'idiota', 'puta', 'puto', 'arrombado','arrombada',\n",
    "    'canalha', 'vagabundo', 'vagabunda','burra', 'burro', 'maldito', 'maldita', 'neguim', 'neguinho', \n",
    "    'favelados', 'faveladas', 'favelada', 'maconheiro', 'maconhero', 'viado'\n",
    "]\n",
    "\n",
    "hate_words = [\n",
    "    'putaria','bosta','cuzao', 'fdp', 'filho da puta',\n",
    "    'merda', 'escroto', 'transfobia', 'gordo', 'canalha',\n",
    "    'ditadura','gorda'\n",
    "]"
   ]
  },
  {
   "cell_type": "code",
   "execution_count": 10,
   "metadata": {},
   "outputs": [],
   "source": [
    "# Modelo ja baixado\n",
    "# import subprocess\n",
    "# command = \"python3 -m spacy download pt_core_news_sm\".split()\n",
    "# subprocess.call(command)\n",
    "\n",
    "nlp = spacy.load('pt_core_news_sm')\n",
    "\n",
    "def tag(tweet):\n",
    "    for hate in hate_certeiras:\n",
    "        if hate in tweet:\n",
    "            return 1\n",
    "    \n",
    "    doc = nlp(tweet)\n",
    "    \n",
    "    for token in doc:\n",
    "        if token.pos_ in ['VERB', 'AUX', 'DET']:\n",
    "            if token.lemma_ in hate_verbo:\n",
    "                for hate in hate_adj:\n",
    "                    if hate in tweet:\n",
    "                        return 1\n",
    "                for hate in hate_words:\n",
    "                    if hate in tweet:\n",
    "                        return 1\n",
    "            elif token.lemma_ in hate_adj:\n",
    "                return 1\n",
    "#         elif token.text == 'não' or token.dep_ == 'advmod':\n",
    "#                 for hate in ['gostar', 'ser', 'amar']:\n",
    "#                     for token2 in doc:\n",
    "#                         if token2.lemma_ == hate:\n",
    "#                             return 1\n",
    "#                 for hate in hate_adj:\n",
    "#                     if hate in tweet:\n",
    "#                         return 0\n",
    "#                 for hate in hate_words:\n",
    "#                     if hate in tweet:\n",
    "#                         return 0\n",
    "        elif token.lemma_ in hate_adj:\n",
    "            return 1\n",
    "    return 0\n",
    "\n",
    "def split(probability=0.8):\n",
    "    if probability < np.random.rand():\n",
    "        return 'train'\n",
    "    return 'test'\n",
    "    "
   ]
  },
  {
   "cell_type": "code",
   "execution_count": 11,
   "metadata": {},
   "outputs": [],
   "source": [
    "my_set = []\n",
    "i = 0\n",
    "for i in range(0, len(dataframe['text'])):\n",
    "    my_set.append(split())\n",
    "dataframe['set'] = my_set\n",
    "\n",
    "dataframe['tag'] = dataframe['normalize'].apply(tag)"
   ]
  },
  {
   "cell_type": "code",
   "execution_count": 12,
   "metadata": {},
   "outputs": [
    {
     "data": {
      "text/html": [
       "<div>\n",
       "<style scoped>\n",
       "    .dataframe tbody tr th:only-of-type {\n",
       "        vertical-align: middle;\n",
       "    }\n",
       "\n",
       "    .dataframe tbody tr th {\n",
       "        vertical-align: top;\n",
       "    }\n",
       "\n",
       "    .dataframe thead th {\n",
       "        text-align: right;\n",
       "    }\n",
       "</style>\n",
       "<table border=\"1\" class=\"dataframe\">\n",
       "  <thead>\n",
       "    <tr style=\"text-align: right;\">\n",
       "      <th></th>\n",
       "      <th>Unnamed: 0</th>\n",
       "      <th>id</th>\n",
       "      <th>text</th>\n",
       "      <th>normalize</th>\n",
       "      <th>set</th>\n",
       "      <th>tag</th>\n",
       "    </tr>\n",
       "  </thead>\n",
       "  <tbody>\n",
       "    <tr>\n",
       "      <th>0</th>\n",
       "      <td>0</td>\n",
       "      <td>1142208313532342274</td>\n",
       "      <td>Nossa putaria é quase um poema</td>\n",
       "      <td>nossa putaria é quase um poema</td>\n",
       "      <td>train</td>\n",
       "      <td>1</td>\n",
       "    </tr>\n",
       "    <tr>\n",
       "      <th>1</th>\n",
       "      <td>1</td>\n",
       "      <td>1142208269513089024</td>\n",
       "      <td>ManooooKKKKKKKKK apareceu aqueles vídeos de li...</td>\n",
       "      <td>manok apareceu aqueles vídeos de ligações do b...</td>\n",
       "      <td>test</td>\n",
       "      <td>1</td>\n",
       "    </tr>\n",
       "    <tr>\n",
       "      <th>2</th>\n",
       "      <td>2</td>\n",
       "      <td>1142208264861626370</td>\n",
       "      <td>@felipesimoncini É putaria né ? Aqui no dique ...</td>\n",
       "      <td>é putaria né aqui no dique é frenquentar nos a...</td>\n",
       "      <td>test</td>\n",
       "      <td>1</td>\n",
       "    </tr>\n",
       "    <tr>\n",
       "      <th>3</th>\n",
       "      <td>3</td>\n",
       "      <td>1142208231558864896</td>\n",
       "      <td>acabei de fazer um Tinder pra minha tia e fale...</td>\n",
       "      <td>acabei de fazer um tinder pra minha tia e fale...</td>\n",
       "      <td>test</td>\n",
       "      <td>0</td>\n",
       "    </tr>\n",
       "    <tr>\n",
       "      <th>4</th>\n",
       "      <td>4</td>\n",
       "      <td>1142208138520776704</td>\n",
       "      <td>RT @MiiEDB: Queria viver um romance porém esta...</td>\n",
       "      <td>queria viver um romance porém estamos no sécul...</td>\n",
       "      <td>test</td>\n",
       "      <td>0</td>\n",
       "    </tr>\n",
       "  </tbody>\n",
       "</table>\n",
       "</div>"
      ],
      "text/plain": [
       "   Unnamed: 0                   id  \\\n",
       "0           0  1142208313532342274   \n",
       "1           1  1142208269513089024   \n",
       "2           2  1142208264861626370   \n",
       "3           3  1142208231558864896   \n",
       "4           4  1142208138520776704   \n",
       "\n",
       "                                                text  \\\n",
       "0                     Nossa putaria é quase um poema   \n",
       "1  ManooooKKKKKKKKK apareceu aqueles vídeos de li...   \n",
       "2  @felipesimoncini É putaria né ? Aqui no dique ...   \n",
       "3  acabei de fazer um Tinder pra minha tia e fale...   \n",
       "4  RT @MiiEDB: Queria viver um romance porém esta...   \n",
       "\n",
       "                                           normalize    set  tag  \n",
       "0                     nossa putaria é quase um poema  train    1  \n",
       "1  manok apareceu aqueles vídeos de ligações do b...   test    1  \n",
       "2  é putaria né aqui no dique é frenquentar nos a...   test    1  \n",
       "3  acabei de fazer um tinder pra minha tia e fale...   test    0  \n",
       "4  queria viver um romance porém estamos no sécul...   test    0  "
      ]
     },
     "execution_count": 12,
     "metadata": {},
     "output_type": "execute_result"
    }
   ],
   "source": [
    "dataframe.head()"
   ]
  },
  {
   "cell_type": "code",
   "execution_count": 45,
   "metadata": {},
   "outputs": [
    {
     "data": {
      "text/html": [
       "<div>\n",
       "<style scoped>\n",
       "    .dataframe tbody tr th:only-of-type {\n",
       "        vertical-align: middle;\n",
       "    }\n",
       "\n",
       "    .dataframe tbody tr th {\n",
       "        vertical-align: top;\n",
       "    }\n",
       "\n",
       "    .dataframe thead th {\n",
       "        text-align: right;\n",
       "    }\n",
       "</style>\n",
       "<table border=\"1\" class=\"dataframe\">\n",
       "  <thead>\n",
       "    <tr style=\"text-align: right;\">\n",
       "      <th></th>\n",
       "      <th>Unnamed: 0</th>\n",
       "      <th>id</th>\n",
       "      <th>text</th>\n",
       "      <th>normalize</th>\n",
       "      <th>set</th>\n",
       "    </tr>\n",
       "    <tr>\n",
       "      <th>tag</th>\n",
       "      <th></th>\n",
       "      <th></th>\n",
       "      <th></th>\n",
       "      <th></th>\n",
       "      <th></th>\n",
       "    </tr>\n",
       "  </thead>\n",
       "  <tbody>\n",
       "    <tr>\n",
       "      <th>0</th>\n",
       "      <td>48188</td>\n",
       "      <td>48188</td>\n",
       "      <td>48188</td>\n",
       "      <td>48188</td>\n",
       "      <td>48188</td>\n",
       "    </tr>\n",
       "    <tr>\n",
       "      <th>1</th>\n",
       "      <td>36993</td>\n",
       "      <td>36993</td>\n",
       "      <td>36993</td>\n",
       "      <td>36993</td>\n",
       "      <td>36993</td>\n",
       "    </tr>\n",
       "  </tbody>\n",
       "</table>\n",
       "</div>"
      ],
      "text/plain": [
       "     Unnamed: 0     id   text  normalize    set\n",
       "tag                                            \n",
       "0         48188  48188  48188      48188  48188\n",
       "1         36993  36993  36993      36993  36993"
      ]
     },
     "execution_count": 45,
     "metadata": {},
     "output_type": "execute_result"
    }
   ],
   "source": [
    "dataframe.groupby('tag').count()"
   ]
  },
  {
   "cell_type": "code",
   "execution_count": 23,
   "metadata": {},
   "outputs": [],
   "source": [
    "from sklearn.feature_extraction.text import TfidfVectorizer"
   ]
  },
  {
   "cell_type": "code",
   "execution_count": 31,
   "metadata": {},
   "outputs": [],
   "source": [
    "train_reviews = dataframe[dataframe['set'] == 'train']['normalize'].values.tolist()\n",
    "train_classes = dataframe[dataframe['set'] == 'train']['tag'].values.tolist()\n",
    "\n",
    "test_reviews = dataframe[dataframe['set'] == 'test']['normalize'].values.tolist()\n",
    "test_classes = dataframe[dataframe['set'] == 'test']['tag'].values.tolist()\n",
    "\n",
    "transformer = TfidfVectorizer()\n",
    "transformer.fit(train_reviews)\n",
    "X = transformer.transform(train_reviews)\n",
    "X_test = transformer.transform(test_reviews)"
   ]
  },
  {
   "cell_type": "code",
   "execution_count": 25,
   "metadata": {},
   "outputs": [],
   "source": [
    "from sklearn.linear_model import LogisticRegression"
   ]
  },
  {
   "cell_type": "code",
   "execution_count": 26,
   "metadata": {},
   "outputs": [
    {
     "name": "stderr",
     "output_type": "stream",
     "text": [
      "/home/franciscone/.envs/tp-nlp/lib/python3.5/site-packages/sklearn/linear_model/logistic.py:432: FutureWarning: Default solver will be changed to 'lbfgs' in 0.22. Specify a solver to silence this warning.\n",
      "  FutureWarning)\n",
      "/home/franciscone/.envs/tp-nlp/lib/python3.5/site-packages/sklearn/linear_model/logistic.py:1544: UserWarning: 'n_jobs' > 1 does not have any effect when 'solver' is set to 'liblinear'. Got 'n_jobs' = 3.\n",
      "  \" = {}.\".format(effective_n_jobs(self.n_jobs)))\n"
     ]
    },
    {
     "data": {
      "text/plain": [
       "LogisticRegression(C=1.0, class_weight=None, dual=False, fit_intercept=True,\n",
       "                   intercept_scaling=1, l1_ratio=None, max_iter=100,\n",
       "                   multi_class='warn', n_jobs=3, penalty='l2',\n",
       "                   random_state=None, solver='warn', tol=0.0001, verbose=0,\n",
       "                   warm_start=False)"
      ]
     },
     "execution_count": 26,
     "metadata": {},
     "output_type": "execute_result"
    }
   ],
   "source": [
    "classifier_lr = LogisticRegression(n_jobs=3)\n",
    "classifier_lr.fit(X, train_classes)"
   ]
  },
  {
   "cell_type": "code",
   "execution_count": 55,
   "metadata": {},
   "outputs": [
    {
     "data": {
      "text/plain": [
       "array([0])"
      ]
     },
     "execution_count": 55,
     "metadata": {},
     "output_type": "execute_result"
    }
   ],
   "source": [
    "sentence = \"morra travesti\"\n",
    "instance = transformer.transform([normalize(sentence)])\n",
    "classifier_lr.predict(instance)"
   ]
  },
  {
   "cell_type": "code",
   "execution_count": 28,
   "metadata": {},
   "outputs": [],
   "source": [
    "from sklearn.metrics import accuracy_score"
   ]
  },
  {
   "cell_type": "code",
   "execution_count": 32,
   "metadata": {},
   "outputs": [
    {
     "data": {
      "text/plain": [
       "0.9503774194495844"
      ]
     },
     "execution_count": 32,
     "metadata": {},
     "output_type": "execute_result"
    }
   ],
   "source": [
    "accuracy_score(test_classes, classifier_lr.predict(X_test))"
   ]
  },
  {
   "cell_type": "code",
   "execution_count": 20,
   "metadata": {},
   "outputs": [
    {
     "name": "stdout",
     "output_type": "stream",
     "text": [
      "Sou Sou\n",
      "feliz feliz\n",
      "gay gay\n"
     ]
    }
   ],
   "source": [
    "for token in doc:\n",
    "    print(token.text, token.lemma_)"
   ]
  },
  {
   "cell_type": "code",
   "execution_count": null,
   "metadata": {},
   "outputs": [],
   "source": []
  }
 ],
 "metadata": {
  "kernelspec": {
   "display_name": "Python 3",
   "language": "python",
   "name": "python3"
  },
  "language_info": {
   "codemirror_mode": {
    "name": "ipython",
    "version": 3
   },
   "file_extension": ".py",
   "mimetype": "text/x-python",
   "name": "python",
   "nbconvert_exporter": "python",
   "pygments_lexer": "ipython3",
   "version": "3.5.3"
  }
 },
 "nbformat": 4,
 "nbformat_minor": 2
}
