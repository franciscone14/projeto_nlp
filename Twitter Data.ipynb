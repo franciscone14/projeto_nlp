{
 "cells": [
  {
   "cell_type": "code",
   "execution_count": 1,
   "metadata": {},
   "outputs": [],
   "source": [
    "import tweepy"
   ]
  },
  {
   "cell_type": "code",
   "execution_count": 2,
   "metadata": {},
   "outputs": [],
   "source": [
    "consumer_key = 'VKXqMecJSSoT82Q1pT2D2FlbR'\n",
    "consumer_secret = 'CtuqJViwaUjO0ocIpCFaTJvIxvM0suncPvCxFPJhmXLbFq3UXc'"
   ]
  },
  {
   "cell_type": "code",
   "execution_count": 3,
   "metadata": {},
   "outputs": [],
   "source": [
    "access_token = '902183197051629568-Gpt5hFPpPUOL8H08W37elK2U2Vgx9bn'\n",
    "access_token_secret = 'RBTRgmfncHTXSg5AyRyUd0A1Y2sl4amBjxSgcy5uvYKAh'"
   ]
  },
  {
   "cell_type": "code",
   "execution_count": 4,
   "metadata": {},
   "outputs": [],
   "source": [
    "auth = tweepy.OAuthHandler(consumer_key, consumer_secret)\n",
    "auth.set_access_token(access_token, access_token_secret)\n",
    "\n",
    "api = tweepy.API(auth)"
   ]
  },
  {
   "cell_type": "code",
   "execution_count": 5,
   "metadata": {},
   "outputs": [],
   "source": [
    "hate_speech_users = ['BolsonaroSP', 'kimpkat', 'mamaefalei', 'moura_101'];"
   ]
  },
  {
   "cell_type": "code",
   "execution_count": 6,
   "metadata": {},
   "outputs": [
    {
     "ename": "RateLimitError",
     "evalue": "[{'message': 'Rate limit exceeded', 'code': 88}]",
     "output_type": "error",
     "traceback": [
      "\u001b[0;31m---------------------------------------------------------------------------\u001b[0m",
      "\u001b[0;31mRateLimitError\u001b[0m                            Traceback (most recent call last)",
      "\u001b[0;32m<ipython-input-6-020eac07ac4c>\u001b[0m in \u001b[0;36m<module>\u001b[0;34m\u001b[0m\n\u001b[1;32m      1\u001b[0m \u001b[0;32mfor\u001b[0m \u001b[0muser\u001b[0m \u001b[0;32min\u001b[0m \u001b[0mhate_speech_users\u001b[0m\u001b[0;34m:\u001b[0m\u001b[0;34m\u001b[0m\u001b[0m\n\u001b[0;32m----> 2\u001b[0;31m     \u001b[0mfollowers\u001b[0m \u001b[0;34m=\u001b[0m \u001b[0mapi\u001b[0m\u001b[0;34m.\u001b[0m\u001b[0mfollowers\u001b[0m\u001b[0;34m(\u001b[0m\u001b[0mid\u001b[0m\u001b[0;34m=\u001b[0m\u001b[0muser\u001b[0m\u001b[0;34m,\u001b[0m \u001b[0mcount\u001b[0m\u001b[0;34m=\u001b[0m\u001b[0;36m200\u001b[0m\u001b[0;34m)\u001b[0m\u001b[0;34m\u001b[0m\u001b[0m\n\u001b[0m\u001b[1;32m      3\u001b[0m \u001b[0;31m#     print(len(followers))\u001b[0m\u001b[0;34m\u001b[0m\u001b[0;34m\u001b[0m\u001b[0m\n\u001b[1;32m      4\u001b[0m     \u001b[0;32mfor\u001b[0m \u001b[0mfollower\u001b[0m \u001b[0;32min\u001b[0m \u001b[0mfollowers\u001b[0m\u001b[0;34m:\u001b[0m\u001b[0;34m\u001b[0m\u001b[0m\n\u001b[1;32m      5\u001b[0m \u001b[0;31m#         print(follower.screen_name)\u001b[0m\u001b[0;34m\u001b[0m\u001b[0;34m\u001b[0m\u001b[0m\n",
      "\u001b[0;32m~/.envs/tp-nlp/lib/python3.5/site-packages/tweepy/binder.py\u001b[0m in \u001b[0;36m_call\u001b[0;34m(*args, **kwargs)\u001b[0m\n\u001b[1;32m    248\u001b[0m             \u001b[0;32mreturn\u001b[0m \u001b[0mmethod\u001b[0m\u001b[0;34m\u001b[0m\u001b[0m\n\u001b[1;32m    249\u001b[0m         \u001b[0;32melse\u001b[0m\u001b[0;34m:\u001b[0m\u001b[0;34m\u001b[0m\u001b[0m\n\u001b[0;32m--> 250\u001b[0;31m             \u001b[0;32mreturn\u001b[0m \u001b[0mmethod\u001b[0m\u001b[0;34m.\u001b[0m\u001b[0mexecute\u001b[0m\u001b[0;34m(\u001b[0m\u001b[0;34m)\u001b[0m\u001b[0;34m\u001b[0m\u001b[0m\n\u001b[0m\u001b[1;32m    251\u001b[0m \u001b[0;34m\u001b[0m\u001b[0m\n\u001b[1;32m    252\u001b[0m     \u001b[0;31m# Set pagination mode\u001b[0m\u001b[0;34m\u001b[0m\u001b[0;34m\u001b[0m\u001b[0m\n",
      "\u001b[0;32m~/.envs/tp-nlp/lib/python3.5/site-packages/tweepy/binder.py\u001b[0m in \u001b[0;36mexecute\u001b[0;34m(self)\u001b[0m\n\u001b[1;32m    230\u001b[0m \u001b[0;34m\u001b[0m\u001b[0m\n\u001b[1;32m    231\u001b[0m                 \u001b[0;32mif\u001b[0m \u001b[0mis_rate_limit_error_message\u001b[0m\u001b[0;34m(\u001b[0m\u001b[0merror_msg\u001b[0m\u001b[0;34m)\u001b[0m\u001b[0;34m:\u001b[0m\u001b[0;34m\u001b[0m\u001b[0m\n\u001b[0;32m--> 232\u001b[0;31m                     \u001b[0;32mraise\u001b[0m \u001b[0mRateLimitError\u001b[0m\u001b[0;34m(\u001b[0m\u001b[0merror_msg\u001b[0m\u001b[0;34m,\u001b[0m \u001b[0mresp\u001b[0m\u001b[0;34m)\u001b[0m\u001b[0;34m\u001b[0m\u001b[0m\n\u001b[0m\u001b[1;32m    233\u001b[0m                 \u001b[0;32melse\u001b[0m\u001b[0;34m:\u001b[0m\u001b[0;34m\u001b[0m\u001b[0m\n\u001b[1;32m    234\u001b[0m                     \u001b[0;32mraise\u001b[0m \u001b[0mTweepError\u001b[0m\u001b[0;34m(\u001b[0m\u001b[0merror_msg\u001b[0m\u001b[0;34m,\u001b[0m \u001b[0mresp\u001b[0m\u001b[0;34m,\u001b[0m \u001b[0mapi_code\u001b[0m\u001b[0;34m=\u001b[0m\u001b[0mapi_error_code\u001b[0m\u001b[0;34m)\u001b[0m\u001b[0;34m\u001b[0m\u001b[0m\n",
      "\u001b[0;31mRateLimitError\u001b[0m: [{'message': 'Rate limit exceeded', 'code': 88}]"
     ]
    }
   ],
   "source": [
    "for user in hate_speech_users:\n",
    "    followers = api.followers(id=user, count=200)\n",
    "#     print(len(followers))\n",
    "    for follower in followers:\n",
    "#         print(follower.screen_name)\n",
    "        if follower.protected == False: hate_speech_users.append(follower.screen_name)"
   ]
  },
  {
   "cell_type": "code",
   "execution_count": 7,
   "metadata": {},
   "outputs": [
    {
     "data": {
      "text/plain": [
       "816"
      ]
     },
     "execution_count": 7,
     "metadata": {},
     "output_type": "execute_result"
    }
   ],
   "source": [
    "len(hate_speech_users)"
   ]
  },
  {
   "cell_type": "code",
   "execution_count": 8,
   "metadata": {},
   "outputs": [],
   "source": [
    "tweets = []\n",
    "\n",
    "for user in hate_speech_users:\n",
    "#     import time\n",
    "#     time.sleep(60)\n",
    "    data = api.get_user(user)\n",
    "    if data.protected == False:\n",
    "        tweets.extend(api.user_timeline(id=user))"
   ]
  },
  {
   "cell_type": "code",
   "execution_count": 9,
   "metadata": {},
   "outputs": [
    {
     "data": {
      "text/plain": [
       "7735"
      ]
     },
     "execution_count": 9,
     "metadata": {},
     "output_type": "execute_result"
    }
   ],
   "source": [
    "len(tweets)"
   ]
  },
  {
   "cell_type": "code",
   "execution_count": 14,
   "metadata": {},
   "outputs": [
    {
     "data": {
      "text/plain": [
       "1141816312240492545"
      ]
     },
     "execution_count": 14,
     "metadata": {},
     "output_type": "execute_result"
    }
   ],
   "source": [
    "tweets[0].id"
   ]
  },
  {
   "cell_type": "code",
   "execution_count": 15,
   "metadata": {},
   "outputs": [],
   "source": [
    "import pandas as pd"
   ]
  },
  {
   "cell_type": "code",
   "execution_count": 16,
   "metadata": {},
   "outputs": [],
   "source": [
    "dataframe = {'id': [], 'text': []}"
   ]
  },
  {
   "cell_type": "code",
   "execution_count": 17,
   "metadata": {},
   "outputs": [],
   "source": [
    "for tweet in tweets:\n",
    "    dataframe['id'].append(tweet.id)\n",
    "    dataframe['text'].append(tweet.text)"
   ]
  },
  {
   "cell_type": "code",
   "execution_count": 18,
   "metadata": {},
   "outputs": [],
   "source": [
    "dados = pd.DataFrame(data=dataframe)"
   ]
  },
  {
   "cell_type": "code",
   "execution_count": 24,
   "metadata": {},
   "outputs": [
    {
     "data": {
      "text/html": [
       "<div>\n",
       "<style scoped>\n",
       "    .dataframe tbody tr th:only-of-type {\n",
       "        vertical-align: middle;\n",
       "    }\n",
       "\n",
       "    .dataframe tbody tr th {\n",
       "        vertical-align: top;\n",
       "    }\n",
       "\n",
       "    .dataframe thead th {\n",
       "        text-align: right;\n",
       "    }\n",
       "</style>\n",
       "<table border=\"1\" class=\"dataframe\">\n",
       "  <thead>\n",
       "    <tr style=\"text-align: right;\">\n",
       "      <th></th>\n",
       "      <th>id</th>\n",
       "      <th>text</th>\n",
       "    </tr>\n",
       "  </thead>\n",
       "  <tbody>\n",
       "    <tr>\n",
       "      <th>0</th>\n",
       "      <td>1141816312240492545</td>\n",
       "      <td>Essa é a melhor pesquisa. @jairbolsonaro no Va...</td>\n",
       "    </tr>\n",
       "    <tr>\n",
       "      <th>1</th>\n",
       "      <td>1141793331359485953</td>\n",
       "      <td>Eu e @marcofeliciano acompanhamos JB em Miraca...</td>\n",
       "    </tr>\n",
       "    <tr>\n",
       "      <th>2</th>\n",
       "      <td>1141782254886301699</td>\n",
       "      <td>Hoje será a 1ª vez que um presidente vai na Ma...</td>\n",
       "    </tr>\n",
       "    <tr>\n",
       "      <th>3</th>\n",
       "      <td>1141738116534984705</td>\n",
       "      <td>Desde antes de 2003, qnd os mensaleiros aprova...</td>\n",
       "    </tr>\n",
       "    <tr>\n",
       "      <th>4</th>\n",
       "      <td>1141701979015655431</td>\n",
       "      <td>Que nome se dá a isso? https://t.co/NYn5SBiGnZ</td>\n",
       "    </tr>\n",
       "  </tbody>\n",
       "</table>\n",
       "</div>"
      ],
      "text/plain": [
       "                    id                                               text\n",
       "0  1141816312240492545  Essa é a melhor pesquisa. @jairbolsonaro no Va...\n",
       "1  1141793331359485953  Eu e @marcofeliciano acompanhamos JB em Miraca...\n",
       "2  1141782254886301699  Hoje será a 1ª vez que um presidente vai na Ma...\n",
       "3  1141738116534984705  Desde antes de 2003, qnd os mensaleiros aprova...\n",
       "4  1141701979015655431     Que nome se dá a isso? https://t.co/NYn5SBiGnZ"
      ]
     },
     "execution_count": 24,
     "metadata": {},
     "output_type": "execute_result"
    }
   ],
   "source": [
    "dados.head()"
   ]
  },
  {
   "cell_type": "code",
   "execution_count": 25,
   "metadata": {},
   "outputs": [],
   "source": [
    "hatebase = pd.read_csv('hatebase_vocab.csv')"
   ]
  },
  {
   "cell_type": "code",
   "execution_count": 54,
   "metadata": {},
   "outputs": [
    {
     "name": "stdout",
     "output_type": "stream",
     "text": [
      "O termo e nega e o tweet e PR @jairbolsonaro pousando em Eldorado e falando com o público, dentre eles amigos de infância. Quem nega seu passa… https://t.co/c271hgGSjS\n",
      "O termo e nega e o tweet e RT @BolsonaroSP: Esclareço que todas as pessoas nestas imagens, anjos do céu, realizaram:\n",
      "-Exame psicológico\n",
      "-Prova de tiro\n",
      "-Certidão negat…\n",
      "O termo e def e o tweet e Mais um dia da defesa da reforma previdenciária e do pacote anti-crime. https://t.co/mrXyRNfnVt\n",
      "O termo e def e o tweet e RT @RubinhoNunesMBL: Você não defende o povo, defende bandido, @mariadorosario. \n",
      "O Decreto possui respaldo no art. 84,IV da CF. A aprovação…\n",
      "O termo e def e o tweet e #ArmasPelaVida. Defendo o armamento. O direito à defesa é crucial para a manutenção da liberdade!\n",
      "\n",
      "O armamento não… https://t.co/b3bP3Vc2Gj\n",
      "O termo e def e o tweet e RT @majorolimpio: Hoje o Senado decide se é CONTRA ou a FAVOR do decreto de armas de @jairbolsonaro. CONTRA OU A FAVOR da defesa da vida. S…\n",
      "O termo e tição e o tweet e Ministerio Publico de Nova Iguaçu-RJ: #somos+queconcursadosJaperi/2016 - Assine a petição! https://t.co/cjxHA80cHp via @change_br\n",
      "O termo e def e o tweet e Emagreça de forma Rapida e definitiva! Conquiste o corpo que sempre sonhou! SAIBA MAIS EM: https://t.co/QjDUBxpfMt https://t.co/uz1Ieg4gFd\n",
      "O termo e def e o tweet e @foijaoquefez @brunaommv @jairbolsonaro Putz, tinha ouvido falar que haviam pessoas defendendo o imposto mais alto… https://t.co/wS4SeIUhvY\n",
      "O termo e preto e o tweet e RT @voltadegoias: ▪️🏅GERAL\n",
      ".\n",
      "🏆 Campeão - Cristian Egídio egidiocristian / ciclismoribeiraopreto\n",
      ".\n",
      "🥈Vice campeão - Rodrigo do Nascimento rod…\n",
      "O termo e preta e o tweet e @michelkalil também foi convidada para interpretar 5 candidatos a prefeito mas ficou com o Delio pela equipe da produtora. Referência em MG\n",
      "O termo e tição e o tweet e Juntem-se a mim em https://t.co/9gq3TbxQq0 e entrem na verdadeira competição com a chance de ganhar prémios incríveis\n",
      "O termo e nega e o tweet e RT @leonelbrizola12: Paes se nega reunir com comissão suprapartidária de dep. federais, estaduais, vereadores, OAB para discutir Educação h…\n",
      "O termo e def e o tweet e RT @leandroruschel: A mais famosa assessora de imprensa do PT auxiliava a defesa do Zé Dirceu? Quem poderia imaginar uma coisa dessas? 🤣 ht…\n",
      "O termo e def e o tweet e @CrissPaiva Pq agora feminista e defensor dos direitos dos negros estão atacando Keanu?\n",
      "Tem algo por tras disso.\n",
      "O termo e preto e o tweet e informações sobre você que ninguém liga\n",
      "idade: 15\n",
      "altura: 1,68\n",
      "tamanho do pé: 40\n",
      "cor favorita: preto \n",
      "filme favorit… https://t.co/1KBSXBcB0L\n",
      "O termo e preto e o tweet e Mano , tenho q treinar para o trabalho mas , como eu sou vagabundo tô assistindo mib  homens de preto PQP\n",
      "O termo e preta e o tweet e RT @deltanmd: Não estamos falando apenas de má interpretação de informações ou de ser tendencioso. Nesse caso, envolvendo o nome da colega…\n",
      "O termo e def e o tweet e RT @alexandregarcia: Tem gente querendo confundir vocês. O juiz Sérgio Moro presidiu um inquérito para combater a corrupção; não para defen…\n",
      "O termo e def e o tweet e @randolfeap Senador, apoio que o presidente escolha um PGR que defenda a Lava Jato. Os ratos da corrupção estão que… https://t.co/BKSJX0T0yp\n",
      "O termo e def e o tweet e RT @benebarbosa_mvb: @lidicedamata @SenadoFederal Vitória da Paz? Onde há paz quando um trabalhador é privado de promover sua autodefesa? P…\n",
      "O termo e tição e o tweet e Pelo fim da aposentadoria especial de deputados - Assine a petição! https://t.co/xvPvZV7gNg via @change_br\n",
      "O termo e def e o tweet e RT @ViniciusPoit: Tem uma turma por aí que adora falar que defende os mais pobres, mas defende mesmo medidas que protegem o monopólio dos b…\n",
      "O termo e nega e o tweet e @PaginaMaconha @paginanegativa Meu capitão consegue sim 😎👉👉\n",
      "O termo e nega e o tweet e @paginanegativa @PaginaMaconha É um estoque infinito 😤\n",
      "O termo e nega e o tweet e @paginanegativa Somente nosso capitão 😎😉\n",
      "O termo e def e o tweet e Eu espero que os senadores paranaenses não nos decepcionem, queremos ter o direito de nós defender, @ArnsFlavio… https://t.co/aHp4F20WWJ\n",
      "O termo e def e o tweet e Quem tem que defender o povo são vocês e não armar a família brasileira. https://t.co/bgTaUUjv1a\n",
      "O termo e def e o tweet e Deus me defenderai! Será que algum signo do meu mapa astral me ajuda a ter paciência contigo nessa fase? 🤔😝 https://t.co/qYMgTsjeHc\n",
      "O termo e def e o tweet e @jeanwyllys_real Vai gastando os 700 mil dólares, depois não venha com mimimi, porquê não tem dinheiro pra pagar a sua defesa.\n",
      "O termo e def e o tweet e RT @AzureCosmosDB: Unique key constraints in #CosmosDB: https://t.co/6X3h4LdElA\n",
      "\n",
      "How to define unique keys for an Cosmos container in Cosmo…\n",
      "O termo e def e o tweet e Ninguém pode te tirar o direito de legítima defesa e proteção da sua propriedade. \n",
      "\n",
      "#ArmasPelaVida \n",
      "#ArmasLegalSim… https://t.co/Od7u0s4c0T\n",
      "O termo e nega e o tweet e Não satisfeito tentou diversos embargos tanto no Stj como no Stf e todos foram negados. E você acha mesmo que o Ex-… https://t.co/C3yWES4OvU\n",
      "O termo e casado e o tweet e @JoelPinheiro85 Sim, mas quem faz a lei é um gringo casado com o PSOL q não divulga o conteúdo? Vai na crença mesmo?\n",
      "O termo e casado e o tweet e @JoelPinheiro85 Jornalista q copia e cola publicação de gringo casado com deputado não eleito do PSOL tomando como… https://t.co/NmpvRhfBrc\n",
      "O termo e nego e o tweet e RT @ADVFNBRASIL: REPÓRTER ADVFN: Vencimento de opções faz volume negociado da Vale disparar http://tinyurl.com/3sw5bqg\n",
      "O termo e def e o tweet e @gugachacra Alguém defende pontos corridos???\n",
      "O termo e def e o tweet e @RodrigoMaia Provavelmente o Bolsonaro falou em criar moeda única só pra ver os haters da oposição defendendo liberdade econômica.\n",
      "O termo e def e o tweet e RT @alexandregarcia: Tem gente querendo confundir vocês. O juiz Sérgio Moro presidiu um inquérito para combater a corrupção; não para defen…\n",
      "O termo e def e o tweet e RT @alexandregarcia: Tem gente querendo confundir vocês. O juiz Sérgio Moro presidiu um inquérito para combater a corrupção; não para defen…\n",
      "O termo e def e o tweet e RT @VemPraRua_br: Se dia 30 você vai pra rua defender o seu país, comente com a hashtag #Dia30EuVouDeGraça\n",
      "O termo e def e o tweet e Somente bandidos armados... com armas ilegais! Colocando em risco a vida de qualquer um...não temos o direito de defesa! CA NA LHAS\n",
      "O termo e def e o tweet e RT @alexandregarcia: Tem gente querendo confundir vocês. O juiz Sérgio Moro presidiu um inquérito para combater a corrupção; não para defen…\n",
      "O termo e def e o tweet e @cristmotorsport @Queiroz16279854 Só idiota não defende a nova previdência.\n",
      "O termo e nega e o tweet e @CETSP_ sempre surpreendendo negativamente\n",
      "O termo e def e o tweet e RT @VillaMarcovilla: Derrotar Renan é também derrotar o PT e defender a Lava Jato.\n",
      "#MarcoAntonioVilla #ForaPT #LavaJato #RenanCalheirosNao\n",
      "O termo e nega e o tweet e RT @GFiuza_Oficial: Sindicato dos pombos correios confirma que só aceita ficha limpa. Já o Sindicato dos ladrões diz que Lula nega a filiaç…\n",
      "O termo e def e o tweet e @alvarodias_ - Quem perde o direito de ter uma arma para se defender?\n",
      "\n",
      "O POVO\n",
      "\n",
      "- Quem continuará armado para pratic… https://t.co/AlHM8SVB9I\n",
      "O termo e def e o tweet e @SimoneTebetms - Quem perde o direito de ter uma arma para se defender?\n",
      "\n",
      "O POVO\n",
      "\n",
      "- Quem continuará armado para prat… https://t.co/anpgqsbpS7\n",
      "O termo e def e o tweet e @SenadorKajuru - Quem perde o direito de ter uma arma para se defender?\n",
      "\n",
      "O POVO\n",
      "\n",
      "- Quem continuará armado para prat… https://t.co/L9F7y7dyVy\n",
      "O termo e def e o tweet e @MarinaSilva - Quem perde o direito de ter uma arma para se defender?\n",
      "\n",
      "O POVO\n",
      "\n",
      "- Quem continuará armado para pratic… https://t.co/gsyvT62mUq\n",
      "O termo e def e o tweet e @davialcolumbre - Quem perde o direito de ter uma arma para se defender?\n",
      "\n",
      "O POVO\n",
      "\n",
      "- Quem continuará armado para pra… https://t.co/BJn3mA1oLw\n",
      "O termo e def e o tweet e @SenadorKajuru - Quem perde o direito de ter uma arma para se defender?\n",
      "\n",
      "O POVO\n",
      "\n",
      "- Quem continuará armado para prat… https://t.co/En8PFyZbG6\n",
      "O termo e def e o tweet e RT @Carol_Alves88: As definições de misógino foram atualizadas https://t.co/FSWxqHlj8q\n",
      "O termo e def e o tweet e @cirogomes Sei q a força do hábito é mt forte, mas preciso defender: \"minha esposa\". É importante pensar sobre essa… https://t.co/CcSvVGYeRR\n",
      "O termo e def e o tweet e RT @JovemPanNews: Pedro Cardoso pede que artistas defendam posições: 'Se desagradar o empregador, melhor passar fome'.\n",
      "\n",
      "https://t.co/WGruaU…\n",
      "O termo e preta e o tweet e RT @deltanmd: Não estamos falando apenas de má interpretação de informações ou de ser tendencioso. Nesse caso, envolvendo o nome da colega…\n",
      "O termo e def e o tweet e RT @ldrliberdade: HOJE: Caio Coppolla detona \"jornalismo militante\" de Glenn Greenwald do The Intercept e sai em defesa de Sérgio Moro e De…\n",
      "O termo e casado e o tweet e @casadocodigo  desejo comprar um livro, só que via boleto. Como devo proceder?\n",
      "O termo e bicha e o tweet e RT @roxmo: Começou o abuso do “crime de homofobia”. Jean Wyllys dizer que Carlos Bolsonaro é bicha enrustida não é crime porque foi a esque…\n",
      "O termo e def e o tweet e @davialcolumbre @SenadoFederal Vc é uma vergonha, o povo quer ter o direito de se defender. Você não nos representa.\n",
      "O termo e preta e o tweet e RT @tveroficial: Mãe morre no parto e o coração dela é doado para o rapaz de camisa preta... Veja a reação do bebê diante desse rapaz... Em…\n",
      "O termo e tição e o tweet e A vida não é competição é cooperação!\n",
      "\n",
      "Foto: Grande amigo edsilva25 https://t.co/KSghjsemTG\n",
      "O termo e preto e o tweet e Para jantar e relaxar um pouco.... #pinguim #ribeiraopreto @ Pinguim http://t.co/xXnYA4m21I\n",
      "O termo e def e o tweet e @psol50 Dado preocupante. Quer dizer que de 2007 a 2017 (durante os governos que se dizem defensores das minorias),… https://t.co/kunf5bU9xr\n",
      "O termo e nego e o tweet e @JornalOGlobo A negociação é a seguinte: o PSG quer vender e o Barcelona não quer comprar.\n",
      "O termo e preto e o tweet e informações sobre você que ninguém liga\n",
      "idade: 15\n",
      "altura: 1,68\n",
      "tamanho do pé: 40\n",
      "cor favorita: preto \n",
      "filme favorit… https://t.co/1KBSXBcB0L\n",
      "O termo e preto e o tweet e Mano , tenho q treinar para o trabalho mas , como eu sou vagabundo tô assistindo mib  homens de preto PQP\n",
      "O termo e preto e o tweet e informações sobre vc q ninguém liga\n",
      "\n",
      "idade: 21\n",
      "altura: 1,79\n",
      "tamanho do pé: 39\n",
      "cor fav: preto/branco\n",
      "filme fav: Inte… https://t.co/G5PAd5r9je\n",
      "O termo e def e o tweet e RT @rmarques13: A melhor notícia do Atlético está no @Falagalo13 ! A obra não para! Decisão do juiz! Indeferiu o pedido do MP! Segue a luta…\n",
      "O termo e nega e o tweet e RT @dlacalle_IA: #Gold continues to strengthen above 2013 highs, as central banks accelerate financial repression and negative yielding bon…\n",
      "O termo e def e o tweet e RT @fernandoulrich: Se você quer entender o projeto Libra do @facebook, esta é a melhor definição:\n",
      "\n",
      "- essa moeda digital será uma espécie d…\n",
      "O termo e def e o tweet e RT @Ideias_Radicais: Procura-se estampa bonitona em defesa da educação domiciliar pra vender na loja do Ideias Radicais.\n",
      "\n",
      "Dicas: pouco text…\n",
      "O termo e preta e o tweet e @88Felipepv @opropriolavo Se tu não consegue interpretar ele q é doido?\n",
      "O termo e nega e o tweet e @PaginaMaconha @paginanegativa Meu capitão consegue sim 😎👉👉\n",
      "O termo e nega e o tweet e @paginanegativa @PaginaMaconha É um estoque infinito 😤\n",
      "O termo e nega e o tweet e @paginanegativa Somente nosso capitão 😎😉\n",
      "O termo e def e o tweet e @GusMarinha @MBLivre @mbl_osasco @Brunosantosmbl Só não entendo como consegue defender o MBL e ideias da direita. S… https://t.co/f4mlVBEKqn\n",
      "O termo e def e o tweet e @GusMarinha @MBLivre @mbl_osasco @Brunosantosmbl Portanto, fica complicado se arvorar na defesa daquilo que você po… https://t.co/2VrrrErWgA\n",
      "O termo e def e o tweet e RT @benebarbosa_mvb: Assistam esse vídeo... E mais uma prova das mentiras daqueles que defendem o Desarmamento... dos outros. https://t.co/…\n",
      "O termo e def e o tweet e RT @benebarbosa_mvb: @IlonaSzaboC Onde a autodefesa exclui educação, emprego e saúde? Em qual lugar do mundo a Segurança Pública garante a…\n",
      "O termo e def e o tweet e @ggreenwald @reinaldoazevedo Vcs todos são instrumentos de uma orquestração criminosa para defender Lula e toda sua… https://t.co/5JDro8JsZV\n",
      "O termo e def e o tweet e @tetocamana @UOL Claro q é errado, só disse q ela n deve direito a legítima defesa!\n",
      "O termo e def e o tweet e RT @dariojjunior: Renan Calheiros interrogando Moro e falando que sempre defendeu a Lava Jato e todas as investigações. Apaporra!\n",
      "O termo e def e o tweet e RT @augustosnunes: Foi a 1a vez q multidões desfraldaram nas ruas bandeiras tidas como ‘impopulares’. Os brasileiros q defenderam a ref. da…\n",
      "O termo e def e o tweet e @CarlaZambelli17 Pois é,  Carla. E a esquerda ainda diz que esse sujeito é vítima da sociedade. Também defendo os policiais.\n",
      "O termo e def e o tweet e @cristmotorsport @Queiroz16279854 Só idiota não defende a nova previdência.\n",
      "O termo e def e o tweet e @monicabergamo Seguindo sua linha de pensamento, caso me permita: o que temos no Brasil que a senhora defende são i… https://t.co/rP03wTTY5I\n",
      "O termo e def e o tweet e @BlogdoNoblat Você tem guardado suas conversas de 3 anos atrás? Eu não tenho.\n",
      "A não ser que você precisasse se defe… https://t.co/CbwwP2KRUz\n",
      "O termo e preta e o tweet e Vamos entender pq precisa abrir a caixa preta do BNDES https://t.co/zrIBExIGCG\n",
      "O termo e def e o tweet e RT @CarlaZambelli17: Deu ruim para a defesa do presidiário.\n",
      "\n",
      "Segundo Marcos Simplicio, pesquisador da USP, é PRATICAMENTE IMPOSSÍVEL atesta…\n",
      "O termo e def e o tweet e RT @rmarques13: A melhor notícia do Atlético está no @Falagalo13 ! A obra não para! Decisão do juiz! Indeferiu o pedido do MP! Segue a luta…\n",
      "O termo e nega e o tweet e Estuprador na minha opinião merece um único castigo: a morte!\n",
      "\n",
      "Mas negar que há casos em que a mulher tenta tirar v… https://t.co/jdKm0SP1KT\n",
      "O termo e def e o tweet e RT @amandanaconta: Oi gente. Vocês já seguiram a @perrygloss? Ela é uma trans de direita que está sofrendo ataques dos que dizem defender a…\n",
      "O termo e def e o tweet e @RogerioVilela Vilela, o que acontece hoje em dia, é definido em apenas uma coisa\n",
      "\"As pessoas estão procurando formas para se ofender\"\n",
      "O termo e def e o tweet e RT @AlbuquerqueDavy: Vocês estão preparados para voltarmos às ruas dia 30/06, em defesa da Operação Lava Jato; do decreto de armas; da refo…\n",
      "O termo e def e o tweet e @gloriagroove Ahahahahaha.\n",
      "Ele falou inverdade.\n",
      "@FernandoHoliday não se ofende. E vcs seletivistas não defendem ele. Pq??\n",
      "O termo e nega e o tweet e RT @desimpedidos: E nessa loucura de dizer que não te quero\n",
      "Vou negando as aparências\n",
      "Disfarçando as evidências https://t.co/r1679rcWSQ\n",
      "O termo e preta e o tweet e RT @deltanmd: Não estamos falando apenas de má interpretação de informações ou de ser tendencioso. Nesse caso, envolvendo o nome da colega…\n",
      "O termo e def e o tweet e RT @NaBocaDo_Povo: Veja quem questionou Sérgio Moro,Temos certeza de que o ministro defende realmente o povo brasileiro. https://t.co/0ZFjK…\n",
      "O termo e def e o tweet e @ContaratoSenado Vocês me decepcionaram, queremos o direito de defesa... Vocês não pediram segurança armada????\n",
      "O termo e def e o tweet e @ArnsFlavio Estou decepcionado senador!!!! O decreto da o direito, ao cidadão de bem, de defender sua casa, família… https://t.co/2qVVJwCLGC\n",
      "O termo e def e o tweet e @dep_clarissa Quero ter direito de poder defender minha casa e família do bandido que invade e coloca em risco minh… https://t.co/kuT5qYUuH4\n",
      "O termo e def e o tweet e RT @alexandregarcia: Em defesa de corruptos, um estrangeiro viola direitos fundamentais da Constituição para atacar o Judiciário no combate…\n",
      "O termo e def e o tweet e #DetonaTudoMoro\n",
      "Lista dos m*** que votaram contra nosso direito de legítima defesa.\n",
      "Deixe estes nomes bem guardado.… https://t.co/uuPumoDn6J\n",
      "O termo e def e o tweet e RT @Damadeferroofic: Armas não matam pessoas, pessoas matam pessoas - como por exemplo aquelas duas criminosas que assassinaram, esquarteja…\n",
      "O termo e def e o tweet e @BlogdoNoblat Mas vc não ataca o Moro e o Bolsonaro, defendendo o LADRÃO LULA 9 dedos, agora vc acha que esse dinhe… https://t.co/7Hn4WhScKx\n",
      "O termo e def e o tweet e \"Um homem sem chifres é um homem sem defesa\"\n",
      "O termo e bicha e o tweet e RT @roxmo: Começou o abuso do “crime de homofobia”. Jean Wyllys dizer que Carlos Bolsonaro é bicha enrustida não é crime porque foi a esque…\n",
      "O termo e def e o tweet e RT @luciano_hang: Realmente os bandidos tem seus representantes no senado. Votar contra a liberdade de um cidadão de bem poder defender sua…\n",
      "O termo e def e o tweet e @randolfeap Imbecil, o povo quer o direito de defesa. A polícias e forças de segurança pública não são unipresentes… https://t.co/1P2DidXth7\n",
      "O termo e bicha e o tweet e RT @roxmo: Começou o abuso do “crime de homofobia”. Jean Wyllys dizer que Carlos Bolsonaro é bicha enrustida não é crime porque foi a esque…\n",
      "O termo e def e o tweet e RT @CarlaZambelli17: Deu ruim para a defesa do presidiário.\n",
      "\n",
      "Segundo Marcos Simplicio, pesquisador da USP, é PRATICAMENTE IMPOSSÍVEL atesta…\n",
      "O termo e def e o tweet e @Damadeferroofic @monicabergamo #EuApoioaLavaJato 🇧🇷\n",
      "O termo e def e o tweet e RT @benebarbosa_mvb: Assistam esse vídeo... E mais uma prova das mentiras daqueles que defendem o Desarmamento... dos outros. https://t.co/…\n",
      "O termo e def e o tweet e RT @joaoc_filho: O Verdevaldo é um \"jornalista\" que defende bandido. \n",
      "Sem supresas, já que ele foi um \"advogado\" que defendia nazistas.\n",
      "\n",
      "#O…\n",
      "O termo e def e o tweet e @m_simonetti Não defendo nada disso aí. Mas convém pra você acreditar que sim. Então tudo bem. 🤷‍♂️\n",
      "O termo e def e o tweet e RT @GeracaodeValor: Ha 2 tipos de pessoas que usam armas pra se defender: poderosos e ricos.\n",
      "\n",
      "Políticos e autoridades dos 3 poderes usam se…\n",
      "O termo e nega e o tweet e RT @jrguzzofatos: A ultima do Ibope é dizer que mais de”70%” da população é contra facilitar a posse de armas pelas pessoas — e isso é nega…\n",
      "O termo e def e o tweet e Estimado @carlosaviana, como seu eleitor e defensor da liberdade individual e do direito à legítima defesa, venho p… https://t.co/hovmIWH1Mn\n",
      "O termo e def e o tweet e @jeanwyllys_real Vamos à verdade dos fatos então: defina o “tipo de agonia”. Blá-blá-blá que não diz absolutamente nada de concreto.\n",
      "O termo e bicha e o tweet e @roxmo E @jeanwyllys_real chamar nosso @PresidenBr @jairbolsonaro de bicha, isso pode? Veja o print,… https://t.co/EiwSstKMVH\n",
      "O termo e def e o tweet e @capelareal O problema não é o treinamento, até porque estamos falamos de um especialistas no assunto defesa. O pro… https://t.co/SVFz1l7FvW\n",
      "O termo e def e o tweet e RT @alexandregarcia: @bbcbrasil Fiquei curioso: o que são “especialistas internacionais“? Poderiam definir?\n",
      "O termo e nega e o tweet e RT @augustosnunes: Alguém sensato acha q Lula ñ é bandido? Alguém com + de 5 neurônios nega q a Lava Jato desbaratou o maior esquema corrup…\n",
      "O termo e casado e o tweet e @VillaMarcovilla Professor vc tá precisando é transar. Esquece o Bolsonaro ! Ele já é casado.\n",
      "O termo e nega e o tweet e @Clauwild1 Olha, não tem como negar. Eu já havia cantado essa pedra noutras redes sociais. Teve gente que me chamou… https://t.co/pxHrpWcRGc\n",
      "O termo e def e o tweet e RT @ConflitoeGuerrA: Sistemas de defesa aérea da Arábia #Saudita interceptou um míssil balístico disparado pelo #Houthis sobre a área de #T…\n",
      "O termo e def e o tweet e RT @EuSouMBC: Iremos às ruas em apoio a Sérgio Moro e para defender \n",
      "\n",
      "- a Lava Jato\n",
      "- a Reforma da Previdência\n",
      "- o Pacote Anticrime\n",
      "- o Arm…\n",
      "O termo e def e o tweet e @glhrmhd @Esilvares @RomarioOnze n conhece o referendo fica ai defecando né gado???\n",
      "O termo e def e o tweet e RT @Damadeferroofic: tive uma ideia para 2022: Bolsonaro Presidente, Sérgio Moro vice.\n",
      "\n",
      "curte quem gostou.\n",
      "#Moro1milhao\n",
      "O termo e def e o tweet e RT @MosseEdward: Ahh! Nhonho, finalmente apareceu um vídeo mostrando o que você realmente defende. Sem meias palavras.\n",
      "Canalha!\n",
      "https://t.c…\n",
      "O termo e def e o tweet e @ariovaldo Procurando pelo em ovo,quem sabe nao encontre que bolsonaro nunca errou??Faz me favor, quem defende ladr… https://t.co/eGxiHwdheI\n",
      "O termo e preta e o tweet e RT @deltanmd: Não estamos falando apenas de má interpretação de informações ou de ser tendencioso. Nesse caso, envolvendo o nome da colega…\n",
      "O termo e def e o tweet e RT @macunaimaz: Relembrar é viver !!!\n",
      "100% BIZARRO! --》》 LulaLadrão , AGORA PRESIDIÁRIO,sendo defumado em ritual para não ser preso. Faltou…\n",
      "O termo e def e o tweet e RT @Francischini_: In Moro, we Trust.\n",
      "Brasileiros em massa defenderam o Juiz da Lava Jato nestes últimos dias sombrios de ataque do Crime O…\n",
      "O termo e def e o tweet e RT @OlavoOpressor: Humberto Costa, do PT:\n",
      "\"Temos de garantir que o monopólio da força pertence ao Estado.\"\n",
      "OBS - Isso é a definição lógica…\n",
      "O termo e def e o tweet e RT @OlavoOpressor: Humberto Costa, do PT:\n",
      "\"Temos de garantir que o monopólio da força pertence ao Estado.\"\n",
      "OBS - Isso é a definição lógica…\n",
      "O termo e nego e o tweet e Meu vizinho ta botando umas sofrencia que até eu to com saudade da ex dele negocio ta de arrastar os chifre no asfa… https://t.co/b2H9KnuTTh\n",
      "O termo e nego e o tweet e @Weltin72 Kkkkkkkkkkk nego não tem limite\n",
      "O termo e def e o tweet e @luizadefarias_ Eu tb n consigo apontar o dedo e falar com certeza isso. Mas q a má vontade de alguns faz a gente e… https://t.co/oVH3l1FX6B\n",
      "O termo e def e o tweet e @luizadefarias_ Mas vai saber até onde isso não é estratégia?!\n",
      "O termo e nego e o tweet e RT @MCRDDANH: nego acha que tratar bem é render..\n",
      "O termo e def e o tweet e Situação confusa: protesto alegando suposto corte de verba ns educação ou defesa de comunista e presidiário?\n",
      "O termo e def e o tweet e Intelectualmente precário define muita coisa nesse governo https://t.co/aqUUeHNttK\n",
      "O termo e pretas e o tweet e RT @depretas: eu: https://t.co/efzmrPdUh7\n"
     ]
    }
   ],
   "source": [
    "hate_words = []\n",
    "for word in hatebase['term']:\n",
    "    hate_words.append(word)\n",
    "\n",
    "for text in dados['text']:\n",
    "    for term in hate_words:\n",
    "        if term in text:\n",
    "            print(\"O termo e {} e o tweet e {}\".format(term, text))\n",
    "            break"
   ]
  },
  {
   "cell_type": "code",
   "execution_count": null,
   "metadata": {},
   "outputs": [],
   "source": []
  }
 ],
 "metadata": {
  "kernelspec": {
   "display_name": "Python 3",
   "language": "python",
   "name": "python3"
  },
  "language_info": {
   "codemirror_mode": {
    "name": "ipython",
    "version": 3
   },
   "file_extension": ".py",
   "mimetype": "text/x-python",
   "name": "python",
   "nbconvert_exporter": "python",
   "pygments_lexer": "ipython3",
   "version": "3.5.3"
  }
 },
 "nbformat": 4,
 "nbformat_minor": 2
}
