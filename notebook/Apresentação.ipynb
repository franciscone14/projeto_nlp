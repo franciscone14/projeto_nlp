{
 "cells": [
  {
   "cell_type": "code",
   "execution_count": 1,
   "metadata": {},
   "outputs": [
    {
     "name": "stderr",
     "output_type": "stream",
     "text": [
      "/home/victorhugo/env/lib/python3.5/site-packages/sklearn/externals/joblib/__init__.py:15: DeprecationWarning: sklearn.externals.joblib is deprecated in 0.21 and will be removed in 0.23. Please import this functionality directly from joblib, which can be installed with: pip install joblib. If this warning is raised when loading pickled models, you may need to re-serialize those models with scikit-learn 0.21+.\n",
      "  warnings.warn(msg, category=DeprecationWarning)\n"
     ]
    }
   ],
   "source": [
    "from nlputils import hateSpeech"
   ]
  },
  {
   "cell_type": "code",
   "execution_count": 2,
   "metadata": {},
   "outputs": [],
   "source": [
    "tweets = hateSpeech.Preprocessing()"
   ]
  },
  {
   "cell_type": "code",
   "execution_count": 3,
   "metadata": {},
   "outputs": [
    {
     "data": {
      "text/html": [
       "<div>\n",
       "<style scoped>\n",
       "    .dataframe tbody tr th:only-of-type {\n",
       "        vertical-align: middle;\n",
       "    }\n",
       "\n",
       "    .dataframe tbody tr th {\n",
       "        vertical-align: top;\n",
       "    }\n",
       "\n",
       "    .dataframe thead th {\n",
       "        text-align: right;\n",
       "    }\n",
       "</style>\n",
       "<table border=\"1\" class=\"dataframe\">\n",
       "  <thead>\n",
       "    <tr style=\"text-align: right;\">\n",
       "      <th></th>\n",
       "      <th>Unnamed: 0</th>\n",
       "      <th>id</th>\n",
       "      <th>text</th>\n",
       "      <th>normalize</th>\n",
       "    </tr>\n",
       "  </thead>\n",
       "  <tbody>\n",
       "    <tr>\n",
       "      <th>0</th>\n",
       "      <td>0</td>\n",
       "      <td>1142208313532342274</td>\n",
       "      <td>Nossa putaria é quase um poema</td>\n",
       "      <td>nossa putaria é quase um poema</td>\n",
       "    </tr>\n",
       "    <tr>\n",
       "      <th>1</th>\n",
       "      <td>1</td>\n",
       "      <td>1142208269513089024</td>\n",
       "      <td>ManooooKKKKKKKKK apareceu aqueles vídeos de li...</td>\n",
       "      <td>manok apareceu aqueles vídeos de ligações do b...</td>\n",
       "    </tr>\n",
       "    <tr>\n",
       "      <th>2</th>\n",
       "      <td>2</td>\n",
       "      <td>1142208264861626370</td>\n",
       "      <td>@felipesimoncini É putaria né ? Aqui no dique ...</td>\n",
       "      <td>é putaria né aqui no dique é frenquentar nos a...</td>\n",
       "    </tr>\n",
       "    <tr>\n",
       "      <th>3</th>\n",
       "      <td>3</td>\n",
       "      <td>1142208231558864896</td>\n",
       "      <td>acabei de fazer um Tinder pra minha tia e fale...</td>\n",
       "      <td>acabei de fazer um tinder pra minha tia e fale...</td>\n",
       "    </tr>\n",
       "    <tr>\n",
       "      <th>4</th>\n",
       "      <td>4</td>\n",
       "      <td>1142208138520776704</td>\n",
       "      <td>RT @MiiEDB: Queria viver um romance porém esta...</td>\n",
       "      <td>queria viver um romance porém estamos no sécul...</td>\n",
       "    </tr>\n",
       "  </tbody>\n",
       "</table>\n",
       "</div>"
      ],
      "text/plain": [
       "   Unnamed: 0                   id  \\\n",
       "0           0  1142208313532342274   \n",
       "1           1  1142208269513089024   \n",
       "2           2  1142208264861626370   \n",
       "3           3  1142208231558864896   \n",
       "4           4  1142208138520776704   \n",
       "\n",
       "                                                text  \\\n",
       "0                     Nossa putaria é quase um poema   \n",
       "1  ManooooKKKKKKKKK apareceu aqueles vídeos de li...   \n",
       "2  @felipesimoncini É putaria né ? Aqui no dique ...   \n",
       "3  acabei de fazer um Tinder pra minha tia e fale...   \n",
       "4  RT @MiiEDB: Queria viver um romance porém esta...   \n",
       "\n",
       "                                           normalize  \n",
       "0                     nossa putaria é quase um poema  \n",
       "1  manok apareceu aqueles vídeos de ligações do b...  \n",
       "2  é putaria né aqui no dique é frenquentar nos a...  \n",
       "3  acabei de fazer um tinder pra minha tia e fale...  \n",
       "4  queria viver um romance porém estamos no sécul...  "
      ]
     },
     "execution_count": 3,
     "metadata": {},
     "output_type": "execute_result"
    }
   ],
   "source": [
    "tweets.dataframe.head()"
   ]
  },
  {
   "cell_type": "code",
   "execution_count": 4,
   "metadata": {},
   "outputs": [],
   "source": [
    "tweets.sett()"
   ]
  },
  {
   "cell_type": "code",
   "execution_count": 5,
   "metadata": {},
   "outputs": [
    {
     "data": {
      "text/html": [
       "<div>\n",
       "<style scoped>\n",
       "    .dataframe tbody tr th:only-of-type {\n",
       "        vertical-align: middle;\n",
       "    }\n",
       "\n",
       "    .dataframe tbody tr th {\n",
       "        vertical-align: top;\n",
       "    }\n",
       "\n",
       "    .dataframe thead th {\n",
       "        text-align: right;\n",
       "    }\n",
       "</style>\n",
       "<table border=\"1\" class=\"dataframe\">\n",
       "  <thead>\n",
       "    <tr style=\"text-align: right;\">\n",
       "      <th></th>\n",
       "      <th>Unnamed: 0</th>\n",
       "      <th>id</th>\n",
       "      <th>text</th>\n",
       "      <th>normalize</th>\n",
       "      <th>set</th>\n",
       "      <th>tag</th>\n",
       "    </tr>\n",
       "  </thead>\n",
       "  <tbody>\n",
       "    <tr>\n",
       "      <th>0</th>\n",
       "      <td>0</td>\n",
       "      <td>1142208313532342274</td>\n",
       "      <td>Nossa putaria é quase um poema</td>\n",
       "      <td>nossa putaria é quase um poema</td>\n",
       "      <td>test</td>\n",
       "      <td>1</td>\n",
       "    </tr>\n",
       "    <tr>\n",
       "      <th>1</th>\n",
       "      <td>1</td>\n",
       "      <td>1142208269513089024</td>\n",
       "      <td>ManooooKKKKKKKKK apareceu aqueles vídeos de li...</td>\n",
       "      <td>manok apareceu aqueles vídeos de ligações do b...</td>\n",
       "      <td>test</td>\n",
       "      <td>1</td>\n",
       "    </tr>\n",
       "    <tr>\n",
       "      <th>2</th>\n",
       "      <td>2</td>\n",
       "      <td>1142208264861626370</td>\n",
       "      <td>@felipesimoncini É putaria né ? Aqui no dique ...</td>\n",
       "      <td>é putaria né aqui no dique é frenquentar nos a...</td>\n",
       "      <td>test</td>\n",
       "      <td>1</td>\n",
       "    </tr>\n",
       "    <tr>\n",
       "      <th>3</th>\n",
       "      <td>3</td>\n",
       "      <td>1142208231558864896</td>\n",
       "      <td>acabei de fazer um Tinder pra minha tia e fale...</td>\n",
       "      <td>acabei de fazer um tinder pra minha tia e fale...</td>\n",
       "      <td>train</td>\n",
       "      <td>0</td>\n",
       "    </tr>\n",
       "    <tr>\n",
       "      <th>4</th>\n",
       "      <td>4</td>\n",
       "      <td>1142208138520776704</td>\n",
       "      <td>RT @MiiEDB: Queria viver um romance porém esta...</td>\n",
       "      <td>queria viver um romance porém estamos no sécul...</td>\n",
       "      <td>test</td>\n",
       "      <td>0</td>\n",
       "    </tr>\n",
       "  </tbody>\n",
       "</table>\n",
       "</div>"
      ],
      "text/plain": [
       "   Unnamed: 0                   id  \\\n",
       "0           0  1142208313532342274   \n",
       "1           1  1142208269513089024   \n",
       "2           2  1142208264861626370   \n",
       "3           3  1142208231558864896   \n",
       "4           4  1142208138520776704   \n",
       "\n",
       "                                                text  \\\n",
       "0                     Nossa putaria é quase um poema   \n",
       "1  ManooooKKKKKKKKK apareceu aqueles vídeos de li...   \n",
       "2  @felipesimoncini É putaria né ? Aqui no dique ...   \n",
       "3  acabei de fazer um Tinder pra minha tia e fale...   \n",
       "4  RT @MiiEDB: Queria viver um romance porém esta...   \n",
       "\n",
       "                                           normalize    set  tag  \n",
       "0                     nossa putaria é quase um poema   test    1  \n",
       "1  manok apareceu aqueles vídeos de ligações do b...   test    1  \n",
       "2  é putaria né aqui no dique é frenquentar nos a...   test    1  \n",
       "3  acabei de fazer um tinder pra minha tia e fale...  train    0  \n",
       "4  queria viver um romance porém estamos no sécul...   test    0  "
      ]
     },
     "execution_count": 5,
     "metadata": {},
     "output_type": "execute_result"
    }
   ],
   "source": [
    "tweets.dataframe.head()"
   ]
  },
  {
   "cell_type": "code",
   "execution_count": 6,
   "metadata": {},
   "outputs": [
    {
     "name": "stdout",
     "output_type": "stream",
     "text": [
      "Trainning...\n",
      "Finished !\n"
     ]
    },
    {
     "name": "stderr",
     "output_type": "stream",
     "text": [
      "/home/victorhugo/env/lib/python3.5/site-packages/sklearn/linear_model/logistic.py:432: FutureWarning: Default solver will be changed to 'lbfgs' in 0.22. Specify a solver to silence this warning.\n",
      "  FutureWarning)\n",
      "/home/victorhugo/env/lib/python3.5/site-packages/sklearn/linear_model/logistic.py:1544: UserWarning: 'n_jobs' > 1 does not have any effect when 'solver' is set to 'liblinear'. Got 'n_jobs' = 3.\n",
      "  \" = {}.\".format(effective_n_jobs(self.n_jobs)))\n"
     ]
    }
   ],
   "source": [
    "tweets.train()"
   ]
  },
  {
   "cell_type": "code",
   "execution_count": 7,
   "metadata": {},
   "outputs": [],
   "source": [
    "#funcoes para salvar e carregar o modelo\n",
    "from sklearn.externals import joblib\n",
    "#salvar modelo\n",
    "def save_model(data):\n",
    "    joblib.dump(data, '../models/saved_model.pkl') \n",
    "#carregar modelo\n",
    "def load_model():\n",
    "    return joblib.load('../models/saved_model.pkl')"
   ]
  },
  {
   "cell_type": "code",
   "execution_count": 8,
   "metadata": {},
   "outputs": [],
   "source": [
    "import os\n",
    "#carrega o modelo se existir\n",
    "if os.path.exists('saved_model.pkl'):\n",
    "    trained_model = load_model()\n",
    "else:\n",
    "    #treina o modelo\n",
    "    save_model(data=tweets)"
   ]
  },
  {
   "cell_type": "code",
   "execution_count": 9,
   "metadata": {},
   "outputs": [
    {
     "data": {
      "text/html": [
       "<div>\n",
       "<style scoped>\n",
       "    .dataframe tbody tr th:only-of-type {\n",
       "        vertical-align: middle;\n",
       "    }\n",
       "\n",
       "    .dataframe tbody tr th {\n",
       "        vertical-align: top;\n",
       "    }\n",
       "\n",
       "    .dataframe thead th {\n",
       "        text-align: right;\n",
       "    }\n",
       "</style>\n",
       "<table border=\"1\" class=\"dataframe\">\n",
       "  <thead>\n",
       "    <tr style=\"text-align: right;\">\n",
       "      <th></th>\n",
       "      <th>Unnamed: 0</th>\n",
       "      <th>id</th>\n",
       "      <th>text</th>\n",
       "      <th>normalize</th>\n",
       "      <th>set</th>\n",
       "      <th>tag</th>\n",
       "    </tr>\n",
       "  </thead>\n",
       "  <tbody>\n",
       "    <tr>\n",
       "      <th>0</th>\n",
       "      <td>0</td>\n",
       "      <td>1142208313532342274</td>\n",
       "      <td>Nossa putaria é quase um poema</td>\n",
       "      <td>nossa putaria é quase um poema</td>\n",
       "      <td>test</td>\n",
       "      <td>1</td>\n",
       "    </tr>\n",
       "    <tr>\n",
       "      <th>1</th>\n",
       "      <td>1</td>\n",
       "      <td>1142208269513089024</td>\n",
       "      <td>ManooooKKKKKKKKK apareceu aqueles vídeos de li...</td>\n",
       "      <td>manok apareceu aqueles vídeos de ligações do b...</td>\n",
       "      <td>test</td>\n",
       "      <td>1</td>\n",
       "    </tr>\n",
       "    <tr>\n",
       "      <th>2</th>\n",
       "      <td>2</td>\n",
       "      <td>1142208264861626370</td>\n",
       "      <td>@felipesimoncini É putaria né ? Aqui no dique ...</td>\n",
       "      <td>é putaria né aqui no dique é frenquentar nos a...</td>\n",
       "      <td>test</td>\n",
       "      <td>1</td>\n",
       "    </tr>\n",
       "    <tr>\n",
       "      <th>3</th>\n",
       "      <td>3</td>\n",
       "      <td>1142208231558864896</td>\n",
       "      <td>acabei de fazer um Tinder pra minha tia e fale...</td>\n",
       "      <td>acabei de fazer um tinder pra minha tia e fale...</td>\n",
       "      <td>train</td>\n",
       "      <td>0</td>\n",
       "    </tr>\n",
       "    <tr>\n",
       "      <th>4</th>\n",
       "      <td>4</td>\n",
       "      <td>1142208138520776704</td>\n",
       "      <td>RT @MiiEDB: Queria viver um romance porém esta...</td>\n",
       "      <td>queria viver um romance porém estamos no sécul...</td>\n",
       "      <td>test</td>\n",
       "      <td>0</td>\n",
       "    </tr>\n",
       "  </tbody>\n",
       "</table>\n",
       "</div>"
      ],
      "text/plain": [
       "   Unnamed: 0                   id  \\\n",
       "0           0  1142208313532342274   \n",
       "1           1  1142208269513089024   \n",
       "2           2  1142208264861626370   \n",
       "3           3  1142208231558864896   \n",
       "4           4  1142208138520776704   \n",
       "\n",
       "                                                text  \\\n",
       "0                     Nossa putaria é quase um poema   \n",
       "1  ManooooKKKKKKKKK apareceu aqueles vídeos de li...   \n",
       "2  @felipesimoncini É putaria né ? Aqui no dique ...   \n",
       "3  acabei de fazer um Tinder pra minha tia e fale...   \n",
       "4  RT @MiiEDB: Queria viver um romance porém esta...   \n",
       "\n",
       "                                           normalize    set  tag  \n",
       "0                     nossa putaria é quase um poema   test    1  \n",
       "1  manok apareceu aqueles vídeos de ligações do b...   test    1  \n",
       "2  é putaria né aqui no dique é frenquentar nos a...   test    1  \n",
       "3  acabei de fazer um tinder pra minha tia e fale...  train    0  \n",
       "4  queria viver um romance porém estamos no sécul...   test    0  "
      ]
     },
     "execution_count": 9,
     "metadata": {},
     "output_type": "execute_result"
    }
   ],
   "source": [
    "tweets.dataframe.head()"
   ]
  },
  {
   "cell_type": "code",
   "execution_count": 10,
   "metadata": {},
   "outputs": [
    {
     "data": {
      "text/html": [
       "<div>\n",
       "<style scoped>\n",
       "    .dataframe tbody tr th:only-of-type {\n",
       "        vertical-align: middle;\n",
       "    }\n",
       "\n",
       "    .dataframe tbody tr th {\n",
       "        vertical-align: top;\n",
       "    }\n",
       "\n",
       "    .dataframe thead th {\n",
       "        text-align: right;\n",
       "    }\n",
       "</style>\n",
       "<table border=\"1\" class=\"dataframe\">\n",
       "  <thead>\n",
       "    <tr style=\"text-align: right;\">\n",
       "      <th></th>\n",
       "      <th>Unnamed: 0</th>\n",
       "      <th>id</th>\n",
       "      <th>text</th>\n",
       "      <th>normalize</th>\n",
       "      <th>set</th>\n",
       "    </tr>\n",
       "    <tr>\n",
       "      <th>tag</th>\n",
       "      <th></th>\n",
       "      <th></th>\n",
       "      <th></th>\n",
       "      <th></th>\n",
       "      <th></th>\n",
       "    </tr>\n",
       "  </thead>\n",
       "  <tbody>\n",
       "    <tr>\n",
       "      <th>0</th>\n",
       "      <td>48164</td>\n",
       "      <td>48164</td>\n",
       "      <td>48164</td>\n",
       "      <td>48164</td>\n",
       "      <td>48164</td>\n",
       "    </tr>\n",
       "    <tr>\n",
       "      <th>1</th>\n",
       "      <td>37017</td>\n",
       "      <td>37017</td>\n",
       "      <td>37017</td>\n",
       "      <td>37017</td>\n",
       "      <td>37017</td>\n",
       "    </tr>\n",
       "  </tbody>\n",
       "</table>\n",
       "</div>"
      ],
      "text/plain": [
       "     Unnamed: 0     id   text  normalize    set\n",
       "tag                                            \n",
       "0         48164  48164  48164      48164  48164\n",
       "1         37017  37017  37017      37017  37017"
      ]
     },
     "execution_count": 10,
     "metadata": {},
     "output_type": "execute_result"
    }
   ],
   "source": [
    "tweets.dataframe.groupby('tag').count()"
   ]
  },
  {
   "cell_type": "code",
   "execution_count": 12,
   "metadata": {},
   "outputs": [
    {
     "ename": "AttributeError",
     "evalue": "'Preprocessing' object has no attribute 'verificar'",
     "output_type": "error",
     "traceback": [
      "\u001b[0;31m---------------------------------------------------------------------------\u001b[0m",
      "\u001b[0;31mAttributeError\u001b[0m                            Traceback (most recent call last)",
      "\u001b[0;32m<ipython-input-12-20b86197a05c>\u001b[0m in \u001b[0;36m<module>\u001b[0;34m\u001b[0m\n\u001b[1;32m      1\u001b[0m \u001b[0mtexto\u001b[0m \u001b[0;34m=\u001b[0m \u001b[0;34m\"morre travesti\"\u001b[0m\u001b[0;34m\u001b[0m\u001b[0m\n\u001b[0;32m----> 2\u001b[0;31m \u001b[0mtweets\u001b[0m\u001b[0;34m.\u001b[0m\u001b[0mverificar\u001b[0m\u001b[0;34m(\u001b[0m\u001b[0mtexto\u001b[0m\u001b[0;34m)\u001b[0m\u001b[0;34m\u001b[0m\u001b[0m\n\u001b[0m",
      "\u001b[0;31mAttributeError\u001b[0m: 'Preprocessing' object has no attribute 'verificar'"
     ]
    }
   ],
   "source": [
    "texto = \"morre travesti\"\n",
    "tweets.verificar(texto)"
   ]
  },
  {
   "cell_type": "code",
   "execution_count": null,
   "metadata": {},
   "outputs": [],
   "source": []
  },
  {
   "cell_type": "code",
   "execution_count": null,
   "metadata": {},
   "outputs": [],
   "source": []
  }
 ],
 "metadata": {
  "kernelspec": {
   "display_name": "Python 3",
   "language": "python",
   "name": "python3"
  },
  "language_info": {
   "codemirror_mode": {
    "name": "ipython",
    "version": 3
   },
   "file_extension": ".py",
   "mimetype": "text/x-python",
   "name": "python",
   "nbconvert_exporter": "python",
   "pygments_lexer": "ipython3",
   "version": "3.5.2"
  }
 },
 "nbformat": 4,
 "nbformat_minor": 2
}
