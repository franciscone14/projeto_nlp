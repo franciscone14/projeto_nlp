{
 "cells": [
  {
   "cell_type": "code",
   "execution_count": null,
   "metadata": {},
   "outputs": [],
   "source": [
    "import tweepy"
   ]
  },
  {
   "cell_type": "code",
   "execution_count": null,
   "metadata": {},
   "outputs": [],
   "source": [
    "consumer_key = 'VKXqMecJSSoT82Q1pT2D2FlbR'\n",
    "consumer_secret = 'CtuqJViwaUjO0ocIpCFaTJvIxvM0suncPvCxFPJhmXLbFq3UXc'"
   ]
  },
  {
   "cell_type": "code",
   "execution_count": null,
   "metadata": {},
   "outputs": [],
   "source": [
    "access_token = '902183197051629568-Gpt5hFPpPUOL8H08W37elK2U2Vgx9bn'\n",
    "access_token_secret = 'RBTRgmfncHTXSg5AyRyUd0A1Y2sl4amBjxSgcy5uvYKAh'"
   ]
  },
  {
   "cell_type": "code",
   "execution_count": 4,
   "metadata": {},
   "outputs": [],
   "source": [
    "auth = tweepy.OAuthHandler(consumer_key, consumer_secret)\n",
    "auth.set_access_token(access_token, access_token_secret)\n",
    "\n",
    "api = tweepy.API(auth)"
   ]
  },
  {
   "cell_type": "code",
   "execution_count": null,
   "metadata": {},
   "outputs": [],
   "source": [
    "hate_speech_users = ['BolsonaroSP', 'kimpkat', 'mamaefalei', 'moura_101'];"
   ]
  },
  {
   "cell_type": "code",
   "execution_count": null,
   "metadata": {},
   "outputs": [],
   "source": [
    "for user in hate_speech_users:\n",
    "    followers = api.followers(id=user, count=200)\n",
    "#     print(len(followers))\n",
    "    for follower in followers:\n",
    "#         print(follower.screen_name)\n",
    "        if follower.protected == False: hate_speech_users.append(follower.screen_name)"
   ]
  },
  {
   "cell_type": "code",
   "execution_count": null,
   "metadata": {},
   "outputs": [],
   "source": [
    "len(hate_speech_users)"
   ]
  },
  {
   "cell_type": "code",
   "execution_count": null,
   "metadata": {},
   "outputs": [],
   "source": [
    "tweets = []\n",
    "\n",
    "for user in hate_speech_users:\n",
    "#     import time\n",
    "#     time.sleep(60)\n",
    "    data = api.get_user(user)\n",
    "    if data.protected == False:\n",
    "        tweets.extend(api.user_timeline(id=user, tweet_mode=\"extended\"))"
   ]
  },
  {
   "cell_type": "code",
   "execution_count": null,
   "metadata": {},
   "outputs": [],
   "source": [
    "len(tweets)"
   ]
  },
  {
   "cell_type": "code",
   "execution_count": null,
   "metadata": {},
   "outputs": [],
   "source": [
    "tweets[0].full_text"
   ]
  },
  {
   "cell_type": "code",
   "execution_count": 5,
   "metadata": {},
   "outputs": [],
   "source": [
    "import pandas as pd"
   ]
  },
  {
   "cell_type": "code",
   "execution_count": null,
   "metadata": {},
   "outputs": [],
   "source": [
    "dataframe = {'id': [], 'text': []}"
   ]
  },
  {
   "cell_type": "code",
   "execution_count": null,
   "metadata": {},
   "outputs": [],
   "source": [
    "for tweet in tweets:\n",
    "    dataframe['id'].append(tweet.id)\n",
    "    dataframe['text'].append(tweet.full_text)"
   ]
  },
  {
   "cell_type": "code",
   "execution_count": null,
   "metadata": {},
   "outputs": [],
   "source": [
    "print(len(dataframe['text']))\n",
    "print(len(dataframe['id']))"
   ]
  },
  {
   "cell_type": "code",
   "execution_count": null,
   "metadata": {},
   "outputs": [],
   "source": [
    "dados = pd.DataFrame(data=dataframe)"
   ]
  },
  {
   "cell_type": "code",
   "execution_count": null,
   "metadata": {},
   "outputs": [],
   "source": [
    "dados.to_csv('tweets.csv')"
   ]
  },
  {
   "cell_type": "code",
   "execution_count": null,
   "metadata": {},
   "outputs": [],
   "source": [
    "dados.head()"
   ]
  },
  {
   "cell_type": "code",
   "execution_count": 6,
   "metadata": {},
   "outputs": [],
   "source": [
    "hatebase = pd.read_csv('hatebase_vocab.csv')"
   ]
  },
  {
   "cell_type": "code",
   "execution_count": 7,
   "metadata": {},
   "outputs": [],
   "source": [
    "hate_certeiras = [\n",
    "    'feminazi','gayzista', 'viadismo', 'homossexualismo', 'viadagem', 'gayzismo', 'favelado',\n",
    "    'gayzinho', 'sapatona', 'sapatão', 'bixa', 'verme', 'negrice', 'negrisse', 'negraiada','abortistas',\n",
    "    'rameira', 'crioula', 'crioulas', 'crioulos', 'crioulo','tições', 'sangues ruins', 'Bambis', 'boiola',\n",
    "    'bichona', 'biba', 'traveco'\n",
    "]\n",
    "\n",
    "hate_verbo = [\n",
    "    'matar', 'exterminar', 'odiar', 'queimar', 'atirar', 'esfaquear', 'bater', 'apanhar', 'roubar',\n",
    "    'estuprar', 'ser', 'comer',\n",
    "]\n",
    "\n",
    "hate_adj = [\n",
    "    'safado','imbecil', 'imbecis', 'cachaceiro', 'babaca', 'idiota', 'puta', 'puto', 'arrombado','arrombada',\n",
    "    'canalha', 'vagabundo', 'vagabunda','burra', 'burro', 'maldito', 'maldita', 'neguim', 'neguinho', \n",
    "    'favelados', 'faveladas', 'favelada', 'maconheiro', 'maconhero'\n",
    "]\n",
    "\n",
    "hate_words = [\n",
    "    'putaria','bosta','cuzao', 'fdp', 'filho da puta',\n",
    "    'merda', 'escroto', 'transfobia', 'gordo', 'canalha',\n",
    "    'ditadura','gorda'\n",
    "]\n",
    "\n",
    "hate_words = hate_words + hate_certeiras + hate_adj\n",
    "\n",
    "for word in hatebase['term']:\n",
    "    if word not in hate_words:\n",
    "        hate_words.append(word)"
   ]
  },
  {
   "cell_type": "code",
   "execution_count": 8,
   "metadata": {},
   "outputs": [],
   "source": [
    "import time"
   ]
  },
  {
   "cell_type": "code",
   "execution_count": 13,
   "metadata": {},
   "outputs": [],
   "source": [
    "time.sleep(900)\n",
    "\n",
    "rate = 0\n",
    "\n",
    "df = {'id': [], 'text': []}\n",
    "for verb in hate_verbo:\n",
    "    for word in hate_words:\n",
    "        rate += 1\n",
    "        if rate <= 180:\n",
    "            query = '(' + verb + ' AND ' + word + ') OR ' + word\n",
    "            for data in api.search(q=query, count=100, lang=\"pt\", tweet_mode=\"extended\"):\n",
    "                df['id'].append(data.id)\n",
    "                df['text'].append(data.full_text)\n",
    "        else:\n",
    "            time.sleep(900)\n",
    "            rate = 0"
   ]
  },
  {
   "cell_type": "code",
   "execution_count": 15,
   "metadata": {},
   "outputs": [],
   "source": [
    "table = pd.DataFrame(data=df)"
   ]
  },
  {
   "cell_type": "code",
   "execution_count": 16,
   "metadata": {},
   "outputs": [
    {
     "data": {
      "text/html": [
       "<div>\n",
       "<style scoped>\n",
       "    .dataframe tbody tr th:only-of-type {\n",
       "        vertical-align: middle;\n",
       "    }\n",
       "\n",
       "    .dataframe tbody tr th {\n",
       "        vertical-align: top;\n",
       "    }\n",
       "\n",
       "    .dataframe thead th {\n",
       "        text-align: right;\n",
       "    }\n",
       "</style>\n",
       "<table border=\"1\" class=\"dataframe\">\n",
       "  <thead>\n",
       "    <tr style=\"text-align: right;\">\n",
       "      <th></th>\n",
       "      <th>id</th>\n",
       "      <th>text</th>\n",
       "    </tr>\n",
       "  </thead>\n",
       "  <tbody>\n",
       "    <tr>\n",
       "      <th>0</th>\n",
       "      <td>1142208313532342274</td>\n",
       "      <td>Nossa putaria é quase um poema</td>\n",
       "    </tr>\n",
       "    <tr>\n",
       "      <th>1</th>\n",
       "      <td>1142208269513089024</td>\n",
       "      <td>ManooooKKKKKKKKK apareceu aqueles vídeos de li...</td>\n",
       "    </tr>\n",
       "    <tr>\n",
       "      <th>2</th>\n",
       "      <td>1142208264861626370</td>\n",
       "      <td>@felipesimoncini É putaria né ? Aqui no dique ...</td>\n",
       "    </tr>\n",
       "    <tr>\n",
       "      <th>3</th>\n",
       "      <td>1142208231558864896</td>\n",
       "      <td>acabei de fazer um Tinder pra minha tia e fale...</td>\n",
       "    </tr>\n",
       "    <tr>\n",
       "      <th>4</th>\n",
       "      <td>1142208138520776704</td>\n",
       "      <td>RT @MiiEDB: Queria viver um romance porém esta...</td>\n",
       "    </tr>\n",
       "  </tbody>\n",
       "</table>\n",
       "</div>"
      ],
      "text/plain": [
       "                    id                                               text\n",
       "0  1142208313532342274                     Nossa putaria é quase um poema\n",
       "1  1142208269513089024  ManooooKKKKKKKKK apareceu aqueles vídeos de li...\n",
       "2  1142208264861626370  @felipesimoncini É putaria né ? Aqui no dique ...\n",
       "3  1142208231558864896  acabei de fazer um Tinder pra minha tia e fale...\n",
       "4  1142208138520776704  RT @MiiEDB: Queria viver um romance porém esta..."
      ]
     },
     "execution_count": 16,
     "metadata": {},
     "output_type": "execute_result"
    }
   ],
   "source": [
    "table.head()"
   ]
  },
  {
   "cell_type": "code",
   "execution_count": 17,
   "metadata": {},
   "outputs": [],
   "source": [
    "table.to_csv('dados.csv')"
   ]
  },
  {
   "cell_type": "code",
   "execution_count": 14,
   "metadata": {},
   "outputs": [
    {
     "data": {
      "text/plain": [
       "85181"
      ]
     },
     "execution_count": 14,
     "metadata": {},
     "output_type": "execute_result"
    }
   ],
   "source": [
    "len(df['text'])"
   ]
  },
  {
   "cell_type": "code",
   "execution_count": null,
   "metadata": {},
   "outputs": [],
   "source": [
    "api.rate_limit_status()"
   ]
  },
  {
   "cell_type": "code",
   "execution_count": null,
   "metadata": {},
   "outputs": [],
   "source": []
  }
 ],
 "metadata": {
  "kernelspec": {
   "display_name": "Python 3",
   "language": "python",
   "name": "python3"
  },
  "language_info": {
   "codemirror_mode": {
    "name": "ipython",
    "version": 3
   },
   "file_extension": ".py",
   "mimetype": "text/x-python",
   "name": "python",
   "nbconvert_exporter": "python",
   "pygments_lexer": "ipython3",
   "version": "3.5.2"
  }
 },
 "nbformat": 4,
 "nbformat_minor": 2
}
