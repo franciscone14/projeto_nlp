{
 "cells": [
  {
   "cell_type": "code",
   "execution_count": null,
   "metadata": {},
   "outputs": [],
   "source": [
    "from requests import request\n",
    "import json"
   ]
  },
  {
   "cell_type": "code",
   "execution_count": null,
   "metadata": {},
   "outputs": [],
   "source": [
    "consumer_key = 'VKXqMecJSSoT82Q1pT2D2FlbR'\n",
    "consumer_secret = 'CtuqJViwaUjO0ocIpCFaTJvIxvM0suncPvCxFPJhmXLbFq3UXc'\n",
    "\n",
    "access_token = '902183197051629568-Gpt5hFPpPUOL8H08W37elK2U2Vgx9bn'\n",
    "access_token_secret = 'RBTRgmfncHTXSg5AyRyUd0A1Y2sl4amBjxSgcy5uvYKAh'"
   ]
  },
  {
   "cell_type": "code",
   "execution_count": null,
   "metadata": {},
   "outputs": [],
   "source": [
    "hate_speech_users = ['BolsonaroSP', 'kimpkat', 'mamaefalei', 'moura_101'];"
   ]
  },
  {
   "cell_type": "code",
   "execution_count": null,
   "metadata": {},
   "outputs": [],
   "source": [
    "base_url = 'https://api.twitter.com/1.1/'"
   ]
  },
  {
   "cell_type": "code",
   "execution_count": null,
   "metadata": {},
   "outputs": [],
   "source": [
    "followers_url = base_url + 'followers/list.json'\n",
    "# cursor=-1&screen_name=twitterdev&skip_status=true&include_user_entities=false\n",
    "cursor = -1\n",
    "skip_status = 'true'\n",
    "include_user_entities = 'false'\n",
    "# Number of followers to retrive\n",
    "count = 200\n",
    "\n",
    "for user in hate_speech_users:\n",
    "    url = followers_url + 'cursor='+str(cursor)\n",
    "        + '&screen_name=' + user + '&skip_status=true&include_user_entities=false'\n",
    "    \n",
    "    "
   ]
  }
 ],
 "metadata": {
  "kernelspec": {
   "display_name": "Python 3",
   "language": "python",
   "name": "python3"
  },
  "language_info": {
   "codemirror_mode": {
    "name": "ipython",
    "version": 3
   },
   "file_extension": ".py",
   "mimetype": "text/x-python",
   "name": "python",
   "nbconvert_exporter": "python",
   "pygments_lexer": "ipython3",
   "version": "3.5.3"
  }
 },
 "nbformat": 4,
 "nbformat_minor": 2
}
